{
 "cells": [
  {
   "cell_type": "code",
   "execution_count": 15,
   "metadata": {
    "scrolled": false
   },
   "outputs": [
    {
     "name": "stdout",
     "output_type": "stream",
     "text": [
      "test1///////////////////////////////////////////\n"
     ]
    },
    {
     "data": {
      "image/png": "[encoded data removed]",
      "text/plain": [
       "<Figure size 432x288 with 1 Axes>"
      ]
     },
     "metadata": {
      "needs_background": "light"
     },
     "output_type": "display_data"
    },
    {
     "name": "stdout",
     "output_type": "stream",
     "text": [
      "optimal learning rate =  0.033145320765805085\n",
      "optimal learning rate's average regret =  -0.013090847351982746\n"
     ]
    }
   ],
   "source": [
    "import csv\n",
    "import pandas as pd\n",
    "import numpy as np\n",
    "import random\n",
    "import math\n",
    "import matplotlib.pyplot as plt\n",
    "\n",
    "def adversarial_payoff(k, N):\n",
    "    #returns an N x k matrix as game payoffs, and optimal payoff\n",
    "    prefix_total_payoffs = np.array([0 for i in range(k)], dtype='float')\n",
    "    pay_arr = np.zeros((N, k))\n",
    "    for round in range(N):\n",
    "        x = random.uniform(0,1)\n",
    "        #In each round, put a random payoff on the action with lowest total payoff\n",
    "        pay_arr[round][np.argmin(prefix_total_payoffs)] = x\n",
    "        prefix_total_payoffs[np.argmin(prefix_total_payoffs)] += x\n",
    "    return pay_arr, max(prefix_total_payoffs)\n",
    "\n",
    "def bernoulli_payoff(k,N):\n",
    "    #returns an N x k matrix as game payoffs, and optimal payoff\n",
    "    #init a fixed probability p[i] for each action\n",
    "    berno_p = np.array([random.uniform(0,0.5) for i in range(k)], dtype='float')\n",
    "    print(\"fixed probability for each action: \", berno_p)\n",
    "    pay_arr = np.zeros((N, k))\n",
    "    for round in range(N):\n",
    "        for i in range(k):\n",
    "            # In each round, each action has payoff = 1 w.p. p[i]\n",
    "            if  berno_p[i] >= random.uniform(0,1):\n",
    "                pay_arr[round][i] = 1\n",
    "            else:\n",
    "                pay_arr[round][i] = 0\n",
    "    prefix_total_payoffs = np.sum(pay_arr, axis = 0)\n",
    "    print(\"actual average payoff for each action\", prefix_total_payoffs/N)\n",
    "    return pay_arr,  max(prefix_total_payoffs)\n",
    "\n",
    "def exp_w(k, learn_rate, N, payoffs, opt):\n",
    "    #main simulator\n",
    "    utility = 0\n",
    "    #keep track of current total payoffs for all actions\n",
    "    prefix_total_payoffs = np.array([0 for i in range(k)], dtype='float')\n",
    "    for round in range(N):\n",
    "        #select a randomized action with EW algorithm\n",
    "        action_selected = select_action(prefix_total_payoffs, learn_rate, k)\n",
    "        #update total payoff for each action\n",
    "        prefix_total_payoffs += payoffs[round]\n",
    "        #accumulate the regret\n",
    "        utility += payoffs[round][action_selected]\n",
    "    return (opt - utility)/N\n",
    "\n",
    "def select_action(prefix_total_payoffs, learn_rate, k):\n",
    "    action_prob = np.array([0 for i in range(k)], dtype='float')\n",
    "    if sum(prefix_total_payoffs) != 0:\n",
    "        for action in range(k):\n",
    "            #EW probability formula\n",
    "            action_prob[action] = math.pow(1+learn_rate, prefix_total_payoffs[action])/sum(prefix_total_payoffs)\n",
    "        #do weighted randomization on EW probability\n",
    "        action_selected = random.choices(range(k), weights=action_prob, k=1)[0]\n",
    "    else:\n",
    "        #randomly select at first\n",
    "        action_selected = (int)(random.uniform(0,k))\n",
    "    return action_selected\n",
    "\n",
    "def test1():\n",
    "    print(\"test1///////////////////////////////////////////\")\n",
    "    N = 1000\n",
    "    k = 3\n",
    "    avg_regret = [0 for i in range(200)]\n",
    "    #get payoff table for the whole game\n",
    "    payoffs, opt = adversarial_payoff(k, N)\n",
    "    for i in range(200):\n",
    "        #iterate through learning rate 0.01, 0.02, ..., 2.00\n",
    "        learning_rate = i/100\n",
    "        #simulate\n",
    "        avg_regret[i] = exp_w(k, learning_rate, N, payoffs, opt)\n",
    "    plt.scatter(np.array(range(200), dtype = 'float')/100, avg_regret)\n",
    "    plt.show()\n",
    "    #see how optimal learning rate does in this game\n",
    "    optimal_learning_rate = (float)(math.sqrt(math.log(k)/N))\n",
    "    print(\"optimal learning rate = \", optimal_learning_rate)\n",
    "    print(\"optimal learning rate's average regret = \", exp_w(k, optimal_learning_rate, N, payoffs, opt))\n",
    "test1()"
   ]
  },
  {
   "cell_type": "code",
   "execution_count": 14,
   "metadata": {},
   "outputs": [
    {
     "name": "stdout",
     "output_type": "stream",
     "text": [
      "test2///////////////////////////////////////////\n",
      "fixed probability for each action:  [0.11500133 0.44410266 0.33729602 0.39504127]\n",
      "actual average payoff for each action [0.104 0.463 0.351 0.395]\n"
     ]
    },
    {
     "data": {
      "image/png": "[encoded data removed]",
      "text/plain": [
       "<Figure size 432x288 with 1 Axes>"
      ]
     },
     "metadata": {
      "needs_background": "light"
     },
     "output_type": "display_data"
    },
    {
     "name": "stdout",
     "output_type": "stream",
     "text": [
      "optimal learning rate =  0.037232974110590344\n",
      "optimal learning rate's average regret =  0.034\n"
     ]
    }
   ],
   "source": [
    "def test2():\n",
    "    print(\"test2///////////////////////////////////////////\")\n",
    "    N = 1000\n",
    "    k = 4\n",
    "    avg_regret = [0 for i in range(300)]\n",
    "    #get payoff table for the whole game\n",
    "    payoffs, opt = bernoulli_payoff(k, N)\n",
    "    for i in range(300):\n",
    "        #iterate through learning rate 0.01, 0.02, ..., 3.00\n",
    "        learning_rate = i/100\n",
    "        #simulate\n",
    "        avg_regret[i] = exp_w(k, learning_rate, N, payoffs, opt)\n",
    "    plt.scatter( np.array(range(300), dtype = 'float')/100, avg_regret)\n",
    "    plt.show()\n",
    "    #see how optimal learning rate does in this game\n",
    "    optimal_learning_rate = (float)(math.sqrt(math.log(k)/N))\n",
    "    print(\"optimal learning rate = \", optimal_learning_rate)\n",
    "    print(\"optimal learning rate's average regret = \", exp_w(k, optimal_learning_rate, N, payoffs, opt))\n",
    "test2()"
   ]
  },
  {
   "cell_type": "code",
   "execution_count": null,
   "metadata": {},
   "outputs": [],
   "source": []
  }
 ],
 "metadata": {
  "interpreter": {
   "hash": "56b2eaa4c425e1c840c5a8cb67602a991280ed55c99b3b96a0a40acfc635f493"
  },
  "kernelspec": {
   "display_name": "Python 3",
   "language": "python",
   "name": "python3"
  },
  "language_info": {
   "codemirror_mode": {
    "name": "ipython",
    "version": 3
   },
   "file_extension": ".py",
   "mimetype": "text/x-python",
   "name": "python",
   "nbconvert_exporter": "python",
   "pygments_lexer": "ipython3",
   "version": "3.7.4"
  }
 },
 "nbformat": 4,
 "nbformat_minor": 2
}
