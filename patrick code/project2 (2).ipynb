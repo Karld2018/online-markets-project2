{
 "cells": [
  {
   "cell_type": "code",
   "execution_count": 18,
   "metadata": {
    "scrolled": false
   },
   "outputs": [
    {
     "name": "stdout",
     "output_type": "stream",
     "text": [
      "test1///////////////////////////////////////////\n"
     ]
    },
    {
     "data": {
      "image/png": "[encoded data removed]",
      "text/plain": [
       "<Figure size 432x288 with 1 Axes>"
      ]
     },
     "metadata": {
      "needs_background": "light"
     },
     "output_type": "display_data"
    },
    {
     "name": "stdout",
     "output_type": "stream",
     "text": [
      "optimal learning rate =  0.01913645986651406\n",
      "optimal learning rate's average regret =  -0.0011408434362051405\n",
      "max learning rate's average regret =  0.16669610401863222\n"
     ]
    }
   ],
   "source": [
    "import csv\n",
    "import pandas as pd\n",
    "import numpy as np\n",
    "import random\n",
    "import math\n",
    "import matplotlib.pyplot as plt\n",
    "\n",
    "def adversarial_payoff(k, N):\n",
    "    #returns an N x k matrix as game payoffs, and optimal payoff\n",
    "    prefix_total_payoffs = np.array([0 for i in range(k)], dtype='float')\n",
    "    pay_arr = np.zeros((N, k))\n",
    "    for round in range(N):\n",
    "        x = random.uniform(0,1)\n",
    "        #In each round, put a random payoff on the action with lowest total payoff\n",
    "        pay_arr[round][np.argmin(prefix_total_payoffs)] = x\n",
    "        prefix_total_payoffs[np.argmin(prefix_total_payoffs)] += x\n",
    "    return pay_arr, max(prefix_total_payoffs)\n",
    "\n",
    "def bernoulli_payoff(k,N):\n",
    "    #returns an N x k matrix as game payoffs, and optimal payoff\n",
    "    #init a fixed probability p[i] for each action\n",
    "    berno_p = np.array([random.uniform(0,0.5) for i in range(k)], dtype='float')\n",
    "    print(\"fixed probability for each action: \", berno_p)\n",
    "    pay_arr = np.zeros((N, k))\n",
    "    for round in range(N):\n",
    "        for i in range(k):\n",
    "            # In each round, each action has payoff = 1 w.p. p[i]\n",
    "            if  berno_p[i] >= random.uniform(0,1):\n",
    "                pay_arr[round][i] = 1\n",
    "            else:\n",
    "                pay_arr[round][i] = 0\n",
    "    prefix_total_payoffs = np.sum(pay_arr, axis = 0)\n",
    "    print(\"actual average payoff for each action\", prefix_total_payoffs/N)\n",
    "    return pay_arr,  max(prefix_total_payoffs)\n",
    "\n",
    "def exp_w(k, learn_rate, N, payoffs, opt):\n",
    "    #main simulator\n",
    "    utility = 0\n",
    "    #keep track of current total payoffs for all actions\n",
    "    prefix_total_payoffs = np.array([0 for i in range(k)], dtype='float')\n",
    "    for round in range(N):\n",
    "        #select a randomized action with EW algorithm\n",
    "        action_selected = select_action(prefix_total_payoffs, learn_rate, k)\n",
    "        #update total payoff for each action\n",
    "        prefix_total_payoffs += payoffs[round]\n",
    "        #accumulate the regret\n",
    "        utility += payoffs[round][action_selected]\n",
    "    return (opt - utility)/N\n",
    "\n",
    "def select_action(prefix_total_payoffs, learn_rate, k):\n",
    "    action_prob = np.array([0 for i in range(k)], dtype='float')\n",
    "    if sum(prefix_total_payoffs) != 0:\n",
    "        for action in range(k):\n",
    "            #EW probability formula\n",
    "            action_prob[action] = math.pow(1+learn_rate, prefix_total_payoffs[action])/sum(prefix_total_payoffs)\n",
    "        #do weighted randomization on EW probability\n",
    "        action_selected = random.choices(range(k), weights=action_prob, k=1)[0]\n",
    "    else:\n",
    "        #randomly select at first\n",
    "        action_selected = (int)(random.uniform(0,k))\n",
    "    return action_selected\n",
    "\n",
    "def test1():\n",
    "    print(\"test1///////////////////////////////////////////\")\n",
    "    N = 3000\n",
    "    k = 3\n",
    "    avg_regret = [0 for i in range(200)]\n",
    "    #get payoff table for the whole game\n",
    "    payoffs, opt = adversarial_payoff(k, N)\n",
    "    for i in range(200):\n",
    "        #iterate through learning rate 0.01, 0.02, ..., 2.00\n",
    "        learning_rate = i/100\n",
    "        #simulate\n",
    "        avg_regret[i] = exp_w(k, learning_rate, N, payoffs, opt)\n",
    "    plt.scatter(np.array(range(200), dtype = 'float')/100, avg_regret)\n",
    "    plt.xlabel(\"learning rate * 100\")\n",
    "    plt.ylabel(\"Average regret\")\n",
    "    plt.show()\n",
    "    #see how optimal learning rate does in this game\n",
    "    optimal_learning_rate = (float)(math.sqrt(math.log(k)/N))\n",
    "    print(\"optimal learning rate = \", optimal_learning_rate)\n",
    "    print(\"optimal learning rate's average regret = \", exp_w(k, optimal_learning_rate, N, payoffs, opt))\n",
    "    print(\"max learning rate's average regret = \", ftl(k, N, payoffs, opt))\n",
    "test1()"
   ]
  },
  {
   "cell_type": "code",
   "execution_count": 21,
   "metadata": {},
   "outputs": [
    {
     "name": "stdout",
     "output_type": "stream",
     "text": [
      "test2///////////////////////////////////////////\n",
      "fixed probability for each action:  [0.22830822 0.33666494 0.38457137 0.048959  ]\n",
      "actual average payoff for each action [0.235 0.344 0.374 0.056]\n"
     ]
    },
    {
     "data": {
      "image/png": "[encoded data removed]",
      "text/plain": [
       "<Figure size 432x288 with 1 Axes>"
      ]
     },
     "metadata": {
      "needs_background": "light"
     },
     "output_type": "display_data"
    },
    {
     "name": "stdout",
     "output_type": "stream",
     "text": [
      "optimal learning rate =  0.037232974110590344\n",
      "optimal learning rate's average regret =  0.032\n",
      "max learning rate's average regret =  0.006\n"
     ]
    }
   ],
   "source": [
    "def test2():\n",
    "    print(\"test2///////////////////////////////////////////\")\n",
    "    N = 1000\n",
    "    k = 4\n",
    "    avg_regret = [0 for i in range(300)]\n",
    "    #get payoff table for the whole game\n",
    "    payoffs, opt = bernoulli_payoff(k, N)\n",
    "    for i in range(300):\n",
    "        #iterate through learning rate 0.01, 0.02, ..., 3.00\n",
    "        learning_rate = i/100\n",
    "        #simulate\n",
    "        avg_regret[i] = exp_w(k, learning_rate, N, payoffs, opt)\n",
    "    plt.scatter( np.array(range(300), dtype = 'float')/100, avg_regret)\n",
    "    plt.xlabel(\"learning rate * 100\")\n",
    "    plt.ylabel(\"Average regret\")\n",
    "    plt.show()\n",
    "    #see how optimal learning rate does in this game\n",
    "    optimal_learning_rate = (float)(math.sqrt(math.log(k)/N))\n",
    "    print(\"optimal learning rate = \", optimal_learning_rate)\n",
    "    print(\"optimal learning rate's average regret = \", exp_w(k, optimal_learning_rate, N, payoffs, opt))\n",
    "    print(\"max learning rate's average regret = \", ftl(k, N, payoffs, opt))\n",
    "test2()"
   ]
  },
  {
   "cell_type": "code",
   "execution_count": 26,
   "metadata": {},
   "outputs": [],
   "source": [
    "from mpl_toolkits.mplot3d import Axes3D\n",
    "from sklearn.preprocessing import StandardScaler\n",
    "import matplotlib.pyplot as plt # plotting\n",
    "import numpy as np # linear algebra\n",
    "import os # accessing directory structure\n",
    "import pandas as pd # data processing, CSV file I/O (e.g. pd.read_csv)"
   ]
  },
  {
   "cell_type": "code",
   "execution_count": 27,
   "metadata": {},
   "outputs": [
    {
     "name": "stdout",
     "output_type": "stream",
     "text": [
      "There are 1259 rows and 7 columns\n"
     ]
    }
   ],
   "source": [
    "nRowsRead = None # specify 'None' if want to read whole file\n",
    "# ABC_data.csv may have more rows in reality, but we are only loading/previewing the first 1000 rows\n",
    "df2 = pd.read_csv('ABC_data.csv', delimiter=',', nrows = nRowsRead)\n",
    "df2.dataframeName = 'ABC_data.csv'\n",
    "nRow, nCol = df2.shape\n",
    "print(f'There are {nRow} rows and {nCol} columns')"
   ]
  },
  {
   "cell_type": "code",
   "execution_count": 28,
   "metadata": {},
   "outputs": [
    {
     "data": {
      "text/html": [
       "<div>\n",
       "<style scoped>\n",
       "    .dataframe tbody tr th:only-of-type {\n",
       "        vertical-align: middle;\n",
       "    }\n",
       "\n",
       "    .dataframe tbody tr th {\n",
       "        vertical-align: top;\n",
       "    }\n",
       "\n",
       "    .dataframe thead th {\n",
       "        text-align: right;\n",
       "    }\n",
       "</style>\n",
       "<table border=\"1\" class=\"dataframe\">\n",
       "  <thead>\n",
       "    <tr style=\"text-align: right;\">\n",
       "      <th></th>\n",
       "      <th>date</th>\n",
       "      <th>open</th>\n",
       "      <th>high</th>\n",
       "      <th>low</th>\n",
       "      <th>close</th>\n",
       "      <th>volume</th>\n",
       "      <th>Name</th>\n",
       "    </tr>\n",
       "  </thead>\n",
       "  <tbody>\n",
       "    <tr>\n",
       "      <th>0</th>\n",
       "      <td>2013-02-08</td>\n",
       "      <td>46.52</td>\n",
       "      <td>46.895</td>\n",
       "      <td>46.46</td>\n",
       "      <td>46.89</td>\n",
       "      <td>1232802</td>\n",
       "      <td>ABC</td>\n",
       "    </tr>\n",
       "    <tr>\n",
       "      <th>1</th>\n",
       "      <td>2013-02-11</td>\n",
       "      <td>46.85</td>\n",
       "      <td>47.000</td>\n",
       "      <td>46.50</td>\n",
       "      <td>46.76</td>\n",
       "      <td>1115888</td>\n",
       "      <td>ABC</td>\n",
       "    </tr>\n",
       "    <tr>\n",
       "      <th>2</th>\n",
       "      <td>2013-02-12</td>\n",
       "      <td>46.70</td>\n",
       "      <td>47.050</td>\n",
       "      <td>46.60</td>\n",
       "      <td>46.96</td>\n",
       "      <td>1318773</td>\n",
       "      <td>ABC</td>\n",
       "    </tr>\n",
       "    <tr>\n",
       "      <th>3</th>\n",
       "      <td>2013-02-13</td>\n",
       "      <td>46.74</td>\n",
       "      <td>46.900</td>\n",
       "      <td>46.60</td>\n",
       "      <td>46.64</td>\n",
       "      <td>2645247</td>\n",
       "      <td>ABC</td>\n",
       "    </tr>\n",
       "    <tr>\n",
       "      <th>4</th>\n",
       "      <td>2013-02-14</td>\n",
       "      <td>46.67</td>\n",
       "      <td>46.990</td>\n",
       "      <td>46.60</td>\n",
       "      <td>46.77</td>\n",
       "      <td>1941879</td>\n",
       "      <td>ABC</td>\n",
       "    </tr>\n",
       "  </tbody>\n",
       "</table>\n",
       "</div>"
      ],
      "text/plain": [
       "         date   open    high    low  close   volume Name\n",
       "0  2013-02-08  46.52  46.895  46.46  46.89  1232802  ABC\n",
       "1  2013-02-11  46.85  47.000  46.50  46.76  1115888  ABC\n",
       "2  2013-02-12  46.70  47.050  46.60  46.96  1318773  ABC\n",
       "3  2013-02-13  46.74  46.900  46.60  46.64  2645247  ABC\n",
       "4  2013-02-14  46.67  46.990  46.60  46.77  1941879  ABC"
      ]
     },
     "execution_count": 28,
     "metadata": {},
     "output_type": "execute_result"
    }
   ],
   "source": [
    "df2.head(5)"
   ]
  },
  {
   "cell_type": "code",
   "execution_count": 29,
   "metadata": {},
   "outputs": [
    {
     "name": "stdout",
     "output_type": "stream",
     "text": [
      "There are 1259 rows and 7 columns\n"
     ]
    }
   ],
   "source": [
    "nRowsRead = None # specify 'None' if want to read whole file\n",
    "# AEE_data.csv may have more rows in reality, but we are only loading/previewing the first 1000 rows\n",
    "df3 = pd.read_csv('AAL_data.csv', delimiter=',', nrows = nRowsRead)\n",
    "df3.dataframeName = 'AAL_data.csv'\n",
    "nRow, nCol = df3.shape\n",
    "print(f'There are {nRow} rows and {nCol} columns')"
   ]
  },
  {
   "cell_type": "code",
   "execution_count": 30,
   "metadata": {},
   "outputs": [
    {
     "data": {
      "text/html": [
       "<div>\n",
       "<style scoped>\n",
       "    .dataframe tbody tr th:only-of-type {\n",
       "        vertical-align: middle;\n",
       "    }\n",
       "\n",
       "    .dataframe tbody tr th {\n",
       "        vertical-align: top;\n",
       "    }\n",
       "\n",
       "    .dataframe thead th {\n",
       "        text-align: right;\n",
       "    }\n",
       "</style>\n",
       "<table border=\"1\" class=\"dataframe\">\n",
       "  <thead>\n",
       "    <tr style=\"text-align: right;\">\n",
       "      <th></th>\n",
       "      <th>date</th>\n",
       "      <th>open</th>\n",
       "      <th>high</th>\n",
       "      <th>low</th>\n",
       "      <th>close</th>\n",
       "      <th>volume</th>\n",
       "      <th>Name</th>\n",
       "    </tr>\n",
       "  </thead>\n",
       "  <tbody>\n",
       "    <tr>\n",
       "      <th>0</th>\n",
       "      <td>2013-02-08</td>\n",
       "      <td>15.07</td>\n",
       "      <td>15.12</td>\n",
       "      <td>14.63</td>\n",
       "      <td>14.75</td>\n",
       "      <td>8407500</td>\n",
       "      <td>AAL</td>\n",
       "    </tr>\n",
       "    <tr>\n",
       "      <th>1</th>\n",
       "      <td>2013-02-11</td>\n",
       "      <td>14.89</td>\n",
       "      <td>15.01</td>\n",
       "      <td>14.26</td>\n",
       "      <td>14.46</td>\n",
       "      <td>8882000</td>\n",
       "      <td>AAL</td>\n",
       "    </tr>\n",
       "    <tr>\n",
       "      <th>2</th>\n",
       "      <td>2013-02-12</td>\n",
       "      <td>14.45</td>\n",
       "      <td>14.51</td>\n",
       "      <td>14.10</td>\n",
       "      <td>14.27</td>\n",
       "      <td>8126000</td>\n",
       "      <td>AAL</td>\n",
       "    </tr>\n",
       "    <tr>\n",
       "      <th>3</th>\n",
       "      <td>2013-02-13</td>\n",
       "      <td>14.30</td>\n",
       "      <td>14.94</td>\n",
       "      <td>14.25</td>\n",
       "      <td>14.66</td>\n",
       "      <td>10259500</td>\n",
       "      <td>AAL</td>\n",
       "    </tr>\n",
       "    <tr>\n",
       "      <th>4</th>\n",
       "      <td>2013-02-14</td>\n",
       "      <td>14.94</td>\n",
       "      <td>14.96</td>\n",
       "      <td>13.16</td>\n",
       "      <td>13.99</td>\n",
       "      <td>31879900</td>\n",
       "      <td>AAL</td>\n",
       "    </tr>\n",
       "  </tbody>\n",
       "</table>\n",
       "</div>"
      ],
      "text/plain": [
       "         date   open   high    low  close    volume Name\n",
       "0  2013-02-08  15.07  15.12  14.63  14.75   8407500  AAL\n",
       "1  2013-02-11  14.89  15.01  14.26  14.46   8882000  AAL\n",
       "2  2013-02-12  14.45  14.51  14.10  14.27   8126000  AAL\n",
       "3  2013-02-13  14.30  14.94  14.25  14.66  10259500  AAL\n",
       "4  2013-02-14  14.94  14.96  13.16  13.99  31879900  AAL"
      ]
     },
     "execution_count": 30,
     "metadata": {},
     "output_type": "execute_result"
    }
   ],
   "source": [
    "df3.head(5)"
   ]
  },
  {
   "cell_type": "code",
   "execution_count": 31,
   "metadata": {},
   "outputs": [
    {
     "name": "stdout",
     "output_type": "stream",
     "text": [
      "15.07\n"
     ]
    }
   ],
   "source": [
    "print(df3.iloc[0][\"open\"])"
   ]
  },
  {
   "cell_type": "code",
   "execution_count": 32,
   "metadata": {},
   "outputs": [
    {
     "name": "stdout",
     "output_type": "stream",
     "text": [
      "There are 1259 rows and 7 columns\n"
     ]
    }
   ],
   "source": [
    "nRowsRead = None # specify 'None' if want to read whole file\n",
    "# AEE_data.csv may have more rows in reality, but we are only loading/previewing the first 1000 rows\n",
    "df4 = pd.read_csv('AAP_data.csv', delimiter=',', nrows = nRowsRead)\n",
    "df4.dataframeName = 'AAP_data.csv'\n",
    "nRow, nCol = df4.shape\n",
    "print(f'There are {nRow} rows and {nCol} columns')"
   ]
  },
  {
   "cell_type": "code",
   "execution_count": 33,
   "metadata": {},
   "outputs": [
    {
     "data": {
      "text/html": [
       "<div>\n",
       "<style scoped>\n",
       "    .dataframe tbody tr th:only-of-type {\n",
       "        vertical-align: middle;\n",
       "    }\n",
       "\n",
       "    .dataframe tbody tr th {\n",
       "        vertical-align: top;\n",
       "    }\n",
       "\n",
       "    .dataframe thead th {\n",
       "        text-align: right;\n",
       "    }\n",
       "</style>\n",
       "<table border=\"1\" class=\"dataframe\">\n",
       "  <thead>\n",
       "    <tr style=\"text-align: right;\">\n",
       "      <th></th>\n",
       "      <th>date</th>\n",
       "      <th>open</th>\n",
       "      <th>high</th>\n",
       "      <th>low</th>\n",
       "      <th>close</th>\n",
       "      <th>volume</th>\n",
       "      <th>Name</th>\n",
       "    </tr>\n",
       "  </thead>\n",
       "  <tbody>\n",
       "    <tr>\n",
       "      <th>0</th>\n",
       "      <td>2013-02-08</td>\n",
       "      <td>78.34</td>\n",
       "      <td>79.72</td>\n",
       "      <td>78.0100</td>\n",
       "      <td>78.90</td>\n",
       "      <td>1298137</td>\n",
       "      <td>AAP</td>\n",
       "    </tr>\n",
       "    <tr>\n",
       "      <th>1</th>\n",
       "      <td>2013-02-11</td>\n",
       "      <td>78.65</td>\n",
       "      <td>78.91</td>\n",
       "      <td>77.2300</td>\n",
       "      <td>78.39</td>\n",
       "      <td>758016</td>\n",
       "      <td>AAP</td>\n",
       "    </tr>\n",
       "    <tr>\n",
       "      <th>2</th>\n",
       "      <td>2013-02-12</td>\n",
       "      <td>78.39</td>\n",
       "      <td>78.63</td>\n",
       "      <td>77.5132</td>\n",
       "      <td>78.60</td>\n",
       "      <td>876859</td>\n",
       "      <td>AAP</td>\n",
       "    </tr>\n",
       "    <tr>\n",
       "      <th>3</th>\n",
       "      <td>2013-02-13</td>\n",
       "      <td>78.90</td>\n",
       "      <td>79.13</td>\n",
       "      <td>77.8500</td>\n",
       "      <td>78.97</td>\n",
       "      <td>1038574</td>\n",
       "      <td>AAP</td>\n",
       "    </tr>\n",
       "    <tr>\n",
       "      <th>4</th>\n",
       "      <td>2013-02-14</td>\n",
       "      <td>78.66</td>\n",
       "      <td>79.72</td>\n",
       "      <td>78.5850</td>\n",
       "      <td>78.84</td>\n",
       "      <td>1005376</td>\n",
       "      <td>AAP</td>\n",
       "    </tr>\n",
       "  </tbody>\n",
       "</table>\n",
       "</div>"
      ],
      "text/plain": [
       "         date   open   high      low  close   volume Name\n",
       "0  2013-02-08  78.34  79.72  78.0100  78.90  1298137  AAP\n",
       "1  2013-02-11  78.65  78.91  77.2300  78.39   758016  AAP\n",
       "2  2013-02-12  78.39  78.63  77.5132  78.60   876859  AAP\n",
       "3  2013-02-13  78.90  79.13  77.8500  78.97  1038574  AAP\n",
       "4  2013-02-14  78.66  79.72  78.5850  78.84  1005376  AAP"
      ]
     },
     "execution_count": 33,
     "metadata": {},
     "output_type": "execute_result"
    }
   ],
   "source": [
    "df4.head(5)"
   ]
  },
  {
   "cell_type": "code",
   "execution_count": null,
   "metadata": {},
   "outputs": [],
   "source": []
  },
  {
   "cell_type": "code",
   "execution_count": 36,
   "metadata": {},
   "outputs": [
    {
     "name": "stdout",
     "output_type": "stream",
     "text": [
      "test3///////////////////////////////////////////\n"
     ]
    },
    {
     "data": {
      "image/png": "[encoded data removed]",
      "text/plain": [
       "<Figure size 432x288 with 1 Axes>"
      ]
     },
     "metadata": {
      "needs_background": "light"
     },
     "output_type": "display_data"
    },
    {
     "name": "stdout",
     "output_type": "stream",
     "text": [
      "optimal learning rate =  0.042790425110221984\n",
      "optimal learning rate's average regret =  -0.0011349960880006431\n",
      "max learning rate's average regret =  0.002766014883660072\n"
     ]
    }
   ],
   "source": [
    "def stock_payoff(k, N):\n",
    "    #returns an N x k matrix as game payoffs, and optimal payoff. K should be two here as we are considering 2 companies.\n",
    "    prefix_total_payoffs = np.array([0 for i in range(k)], dtype='float')\n",
    "    pay_arr = np.zeros((N, k))\n",
    "    for round in range(N):\n",
    "        pay_arr[round][0] = (df2.iloc[round][\"close\"]/df2.iloc[round][\"open\"]-0.9)*5\n",
    "        pay_arr[round][1] = (df3.iloc[round][\"close\"]/df3.iloc[round][\"open\"]-0.9)*5\n",
    "        pay_arr[round][2] = (df4.iloc[round][\"close\"]/df4.iloc[round][\"open\"]-0.9)*5\n",
    "    prefix_total_payoffs = np.sum(pay_arr, axis = 0)\n",
    "    return pay_arr, max(prefix_total_payoffs)\n",
    "def test3():\n",
    "    print(\"test3///////////////////////////////////////////\")\n",
    "    N = 600\n",
    "    k = 3\n",
    "    avg_regret = [0 for i in range(200)]\n",
    "    #get payoff table for the whole game\n",
    "    payoffs, opt = stock_payoff(k, N)\n",
    "    for i in range(200):\n",
    "        #iterate through learning rate 0.01, 0.02, ..., 2.00\n",
    "        learning_rate = i/100\n",
    "        #simulate\n",
    "        avg_regret[i] = exp_w(k, learning_rate, N, payoffs, opt)\n",
    "    plt.scatter(np.array(range(200), dtype = 'float')/100, avg_regret)\n",
    "    plt.xlabel(\"learning rate * 100\")\n",
    "    plt.ylabel(\"Average regret\")\n",
    "    plt.show()\n",
    "    #see how optimal learning rate does in this game\n",
    "    optimal_learning_rate = (float)(math.sqrt(math.log(k)/N))\n",
    "    print(\"optimal learning rate = \", optimal_learning_rate)\n",
    "    print(\"optimal learning rate's average regret = \", exp_w(k, optimal_learning_rate, N, payoffs, opt))\n",
    "    print(\"max learning rate's average regret = \", ftl(k, N, payoffs, opt))\n",
    "test3()"
   ]
  },
  {
   "cell_type": "code",
   "execution_count": null,
   "metadata": {},
   "outputs": [],
   "source": [
    "def fixed_payoff(k, N):\n",
    "    #returns an N x k matrix as game payoffs, and optimal payoff. K should be three.\n",
    "    prefix_total_payoffs = np.array([0 for i in range(k)], dtype='float')\n",
    "    pay_arr = np.zeros((N, k))\n",
    "    for round in range(N):\n",
    "        pay_arr[round][0] = 0.3\n",
    "        pay_arr[round][1] = 0.8\n",
    "        pay_arr[round][2] = 0.6\n",
    "    prefix_total_payoffs = np.sum(pay_arr, axis = 0)\n",
    "    return pay_arr, max(prefix_total_payoffs)"
   ]
  },
  {
   "cell_type": "code",
   "execution_count": null,
   "metadata": {},
   "outputs": [
    {
     "name": "stdout",
     "output_type": "stream",
     "text": [
      "test4///////////////////////////////////////////\n"
     ]
    },
    {
     "data": {
      "image/png": "[encoded data removed]",
      "text/plain": [
       "<Figure size 432x288 with 1 Axes>"
      ]
     },
     "metadata": {
      "needs_background": "light"
     },
     "output_type": "display_data"
    },
    {
     "name": "stdout",
     "output_type": "stream",
     "text": [
      "optimal learning rate =  0.03961623564485561\n",
      "optimal learning rate's average regret =  0.040999999999998114\n"
     ]
    }
   ],
   "source": [
    "def test4():\n",
    "    print(\"test4///////////////////////////////////////////\")\n",
    "    N = 700\n",
    "    k = 3\n",
    "    avg_regret = [0 for i in range(200)]\n",
    "    #get payoff table for the whole game\n",
    "    payoffs, opt = fixed_payoff(k, N)\n",
    "    for i in range(200):\n",
    "        #iterate through learning rate 0.01, 0.02, ..., 2.00\n",
    "        learning_rate = i/100\n",
    "        #simulate\n",
    "        avg_regret[i] = exp_w(k, learning_rate, N, payoffs, opt)\n",
    "    plt.scatter(np.array(range(200), dtype = 'float')/100, avg_regret)\n",
    "    plt.xlabel(\"learning rate * 100\")\n",
    "    plt.ylabel(\"Average regret\")\n",
    "    plt.show()\n",
    "    #see how optimal learning rate does in this game\n",
    "    optimal_learning_rate = (float)(math.sqrt(math.log(k)/N))\n",
    "    print(\"optimal learning rate = \", optimal_learning_rate)\n",
    "    print(\"optimal learning rate's average regret = \", exp_w(k, optimal_learning_rate, N, payoffs, opt))\n",
    "    # testing_no = exp_w(k, 3, N, payoffs, opt)\n",
    "    # print(\"avg regret for learning rate 1000 is:\",testing_no)\n",
    "test4()"
   ]
  },
  {
   "cell_type": "code",
   "execution_count": 38,
   "metadata": {},
   "outputs": [
    {
     "name": "stdout",
     "output_type": "stream",
     "text": [
      "test6///////////////////////////////////////////\n"
     ]
    },
    {
     "data": {
      "image/png": "[encoded data removed]",
      "text/plain": [
       "<Figure size 432x288 with 1 Axes>"
      ]
     },
     "metadata": {
      "needs_background": "light"
     },
     "output_type": "display_data"
    },
    {
     "name": "stdout",
     "output_type": "stream",
     "text": [
      "max learning rate's average regret =  0.007354695786406164\n"
     ]
    }
   ],
   "source": [
    "def ftl(k, N, payoffs, opt):\n",
    "    #main simulator\n",
    "    utility = 0\n",
    "    #keep track of current total payoffs for all actions\n",
    "    prefix_total_payoffs = np.array([0 for i in range(k)], dtype='float')\n",
    "    for round in range(N):\n",
    "        #select a randomized action with EW algorithm\n",
    "        action_selected = select_action_ftl(prefix_total_payoffs, k)\n",
    "        #update total payoff for each action\n",
    "        prefix_total_payoffs += payoffs[round]\n",
    "        #accumulate the regret\n",
    "        utility += payoffs[round][action_selected]\n",
    "    return (opt - utility)/N\n",
    "\n",
    "def select_action_ftl(prefix_total_payoffs, k):\n",
    "    action_selected = np.argmax(prefix_total_payoffs)\n",
    "    return action_selected\n",
    "\n",
    "def adversarial_generative(k, N):\n",
    "    #returns an N x k matrix as game payoffs, and optimal payoff\n",
    "    prefix_total_payoffs = np.array([0.0001 for i in range(k)], dtype='float')\n",
    "    pay_arr = np.zeros((N, k))\n",
    "    for round in range(N):\n",
    "        x = random.uniform(0,1)\n",
    "        #In each round, put a random payoff on the action with lowest total payoff\n",
    "        action_selected = random.choices(range(k), weights=1 / prefix_total_payoffs, k=1)[0]\n",
    "        pay_arr[round][action_selected] = x\n",
    "        prefix_total_payoffs[action_selected] += x\n",
    "    return pay_arr, max(prefix_total_payoffs)\n",
    "\n",
    "\n",
    "def test6():\n",
    "    print(\"test6///////////////////////////////////////////\")\n",
    "    N = 3000\n",
    "    k = 5\n",
    "    avg_regret = [0 for i in range(200)]\n",
    "    #get payoff table for the whole game\n",
    "    payoffs, opt = adversarial_generative(k, N)\n",
    "    for i in range(200):\n",
    "        #iterate through learning rate 0.01, 0.02, ..., 2.00\n",
    "        learning_rate = i/100\n",
    "        #simulate\n",
    "        avg_regret[i] = exp_w(k, learning_rate, N, payoffs, opt)\n",
    "    plt.scatter(np.array(range(200), dtype = 'float')/100, avg_regret)\n",
    "    plt.xlabel(\"learning rate * 100\")\n",
    "    plt.ylabel(\"Average regret\")\n",
    "    plt.show()\n",
    "\n",
    "    print(\"max learning rate's average regret = \", ftl(k, N, payoffs, opt))\n",
    "test6()"
   ]
  },
  {
   "cell_type": "code",
   "execution_count": 17,
   "metadata": {},
   "outputs": [
    {
     "name": "stdout",
     "output_type": "stream",
     "text": [
      "test5///////////////////////////////////////////\n"
     ]
    },
    {
     "data": {
      "image/png": "[encoded data removed]",
      "text/plain": [
       "<Figure size 432x288 with 1 Axes>"
      ]
     },
     "metadata": {
      "needs_background": "light"
     },
     "output_type": "display_data"
    },
    {
     "name": "stdout",
     "output_type": "stream",
     "text": [
      "optimal learning rate =  0.026327688477341595\n",
      "max learning rate's average regret =  0.0058478910701713\n"
     ]
    }
   ],
   "source": [
    "def test5():\n",
    "    print(\"test5///////////////////////////////////////////\")\n",
    "    N = 1000\n",
    "    k = 2\n",
    "    avg_regret = [0 for i in range(200)]\n",
    "    #get payoff table for the whole game\n",
    "    payoffs, opt = adversarial_generative(k, N)\n",
    "    for i in range(200):\n",
    "        #iterate through learning rate 0.01, 0.02, ..., 2.00\n",
    "        learning_rate = i/100\n",
    "        #simulate\n",
    "        avg_regret[i] = ftl(k, N, payoffs, opt)\n",
    "    plt.scatter(np.array(range(200), dtype = 'float')/100, avg_regret)\n",
    "    plt.xlabel(\"learning rate * 100\")\n",
    "    plt.ylabel(\"Average regret\")\n",
    "    plt.show()\n",
    "    #see how optimal learning rate does in this game\n",
    "    optimal_learning_rate = (float)(math.sqrt(math.log(k)/N))\n",
    "    print(\"optimal learning rate = \", optimal_learning_rate)\n",
    "    \n",
    "    \n",
    "    print(\"max learning rate's average regret = \", ftl(k, N, payoffs, opt))\n",
    "    # testing_no = exp_w(k, 3, N, payoffs, opt)\n",
    "    # print(\"avg regret for learning rate 1000 is:\",testing_no)\n",
    "test5()"
   ]
  },
  {
   "cell_type": "code",
   "execution_count": null,
   "metadata": {},
   "outputs": [],
   "source": []
  }
 ],
 "metadata": {
  "interpreter": {
   "hash": "56b2eaa4c425e1c840c5a8cb67602a991280ed55c99b3b96a0a40acfc635f493"
  },
  "kernelspec": {
   "display_name": "Python 3",
   "language": "python",
   "name": "python3"
  },
  "language_info": {
   "codemirror_mode": {
    "name": "ipython",
    "version": 3
   },
   "file_extension": ".py",
   "mimetype": "text/x-python",
   "name": "python",
   "nbconvert_exporter": "python",
   "pygments_lexer": "ipython3",
   "version": "3.7.4"
  }
 },
 "nbformat": 4,
 "nbformat_minor": 2
}
